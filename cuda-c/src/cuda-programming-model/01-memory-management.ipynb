{
 "cells": [
  {
   "cell_type": "code",
   "execution_count": 1,
   "metadata": {},
   "outputs": [
    {
     "name": "stdout",
     "output_type": "stream",
     "text": [
      "Overwriting sumArraysOnHost.c\n"
     ]
    }
   ],
   "source": [
    "%%file sumArraysOnHost.c\n",
    "\n",
    "#include <stdlib.h>\n",
    "#include <string.h>\n",
    "#include <time.h>\n",
    "\n",
    "void sumArraysOnHost(float *A, float *B, float *C, const int N){\n",
    "    for (int idx=0; idx<N; idx++){\n",
    "        C[idx] = A[idx] + B[idx];\n",
    "    }\n",
    "}\n",
    "\n",
    "\n",
    "void initialData(float *ip, int size){\n",
    "    // generate different seed for random number \n",
    "    time_t t;\n",
    "    srand((unsigned int) time (&t));\n",
    "    \n",
    "    for (int i=0; i<size; i++){\n",
    "        ip[i] = (float)(rand() & 0xFF) / 10.0f;\n",
    "    }\n",
    "}\n",
    "\n",
    "\n",
    "int main(int argc, char **argv){\n",
    "    int nElem = 1024;\n",
    "    size_t nBytes = nElem * sizeof(float);\n",
    "    \n",
    "    float *h_A, *h_B, *h_C;\n",
    "    h_A = (float *)malloc(nBytes);\n",
    "    h_B = (float *)malloc(nBytes);\n",
    "    h_C = (float *)malloc(nBytes);\n",
    "    \n",
    "    initialData(h_A, nElem);\n",
    "    initialData(h_B, nElem);\n",
    "    \n",
    "    sumArraysOnHost(h_A, h_B, h_C, nElem);\n",
    "    \n",
    "    free(h_A);\n",
    "    free(h_B);\n",
    "    free(h_C);\n",
    "    \n",
    "    return (0);\n",
    "}"
   ]
  },
  {
   "cell_type": "code",
   "execution_count": 2,
   "metadata": {},
   "outputs": [
    {
     "name": "stdout",
     "output_type": "stream",
     "text": [
      "\u001b[01m\u001b[Kcc1plus:\u001b[m\u001b[K \u001b[01;35m\u001b[Kwarning: \u001b[m\u001b[Kcommand line option ‘\u001b[01m\u001b[K-std=c99\u001b[m\u001b[K’ is valid for C/ObjC but not for C++\r\n"
     ]
    }
   ],
   "source": [
    "!nvcc -Xcompiler -std=c99 sumArraysOnHost.c -o sum"
   ]
  },
  {
   "cell_type": "code",
   "execution_count": 3,
   "metadata": {},
   "outputs": [],
   "source": [
    "!./sum"
   ]
  },
  {
   "cell_type": "code",
   "execution_count": 4,
   "metadata": {},
   "outputs": [],
   "source": [
    "!nvprof ./sum"
   ]
  },
  {
   "cell_type": "code",
   "execution_count": 20,
   "metadata": {},
   "outputs": [
    {
     "name": "stdout",
     "output_type": "stream",
     "text": [
      "Overwriting sumArraysOnDevice.cu\n"
     ]
    }
   ],
   "source": [
    "%%file sumArraysOnDevice.cu\n",
    "\n",
    "#include <stdlib.h>\n",
    "#include <string.h>\n",
    "#include <time.h>\n",
    "#include <stdio.h>\n",
    "\n",
    "__global__ void sumArraysOnDevice(float *A, float *B, float *C){\n",
    "    int idx = threadIdx.x;\n",
    "    C[idx] = A[idx] + B[idx];\n",
    "\n",
    "}\n",
    "\n",
    "\n",
    "void initialData(float *ip, int size){\n",
    "    // generate different seed for random number \n",
    "    time_t t;\n",
    "    srand((unsigned int) time (&t));\n",
    "    \n",
    "    for (int i=0; i<size; i++){\n",
    "        ip[i] = (float)(rand() & 0xFF) / 10.0f;\n",
    "    }\n",
    "}\n",
    "\n",
    "\n",
    "void sumArraysOnHost(float *A, float *B, float *C, const int N){\n",
    "    for (int idx=0; idx<N; idx++){\n",
    "        C[idx] = A[idx] + B[idx];\n",
    "    }\n",
    "}\n",
    "\n",
    "\n",
    "\n",
    "void checkResult(float *h_C, float *result, const int N){\n",
    "    double epsilon = 1.0E-8;\n",
    "    int match = 1;\n",
    "    for (int i = 0; i < N; i++){\n",
    "        if (abs(h_C[i] - result[i]) > epsilon){\n",
    "            match = 0;\n",
    "            printf(\"Arrays do not match!\\n\");\n",
    "            printf(\"host %5.2f gpu %5.2f at current %d\\n\",\n",
    "                   h_C[i], result[i], i);\n",
    "            break;\n",
    "        }\n",
    "    }\n",
    "    if (match) printf(\"Arrays match. \\n\\n\");\n",
    "}\n",
    "\n",
    "\n",
    "int main(int argc, char **argv){\n",
    "    int nElem = 1024;\n",
    "    size_t nBytes = nElem * sizeof(float);\n",
    "    \n",
    "    float *h_A, *h_B, *h_C, *result;\n",
    "    h_A = (float *)malloc(nBytes);\n",
    "    h_B = (float *)malloc(nBytes);\n",
    "    h_C = (float *)malloc(nBytes);\n",
    "    result = (float *)malloc(nBytes);\n",
    "    \n",
    "    initialData(h_A, nElem);\n",
    "    initialData(h_B, nElem);\n",
    "    \n",
    "    float *d_A, *d_B, *d_C;\n",
    "    cudaMalloc((float**)&d_A, nBytes);\n",
    "    cudaMalloc((float**)&d_B, nBytes);\n",
    "    cudaMalloc((float**)&d_C, nBytes);\n",
    "    \n",
    "    // Use cudaMemcpy to transfer the data from the host memory to the GPU global memory with the\n",
    "    // parameter cudaMemcpyHostToDevice specifying the transfer direction.\n",
    "    \n",
    "    cudaMemcpy(d_A, h_A, nBytes, cudaMemcpyHostToDevice);\n",
    "    cudaMemcpy(d_B, h_B, nBytes, cudaMemcpyHostToDevice);\n",
    "    \n",
    "    \n",
    "    \n",
    "    sumArraysOnDevice<<<1, nElem>>>(d_A, d_B, d_C);\n",
    "    sumArraysOnHost(h_A, h_B, result, nElem);\n",
    "    \n",
    "    cudaMemcpy(h_C, d_C, nBytes, cudaMemcpyDeviceToHost);\n",
    "    \n",
    "    for (int i=0; i<10; i++){\n",
    "         printf(\"%f + %f = %f \\n\", h_A[i], h_B[i], h_C[i]);\n",
    "\n",
    "    }\n",
    "    \n",
    "    checkResult(h_C, result, nElem);\n",
    "    \n",
    "    free(h_A);\n",
    "    free(h_B);\n",
    "    free(h_C);\n",
    "    free(result);\n",
    "    \n",
    "    // use cudaFree to release the memory used on the GPU\n",
    "    cudaFree(d_A);\n",
    "    cudaFree(d_B);\n",
    "    cudaFree(d_C);\n",
    "    cudaDeviceReset();\n",
    "    \n",
    "    return (0);\n",
    "}"
   ]
  },
  {
   "cell_type": "code",
   "execution_count": 21,
   "metadata": {},
   "outputs": [
    {
     "name": "stdout",
     "output_type": "stream",
     "text": [
      "21.600000 + 21.600000 = 43.200001 \n",
      "12.200000 + 12.200000 = 24.400000 \n",
      "3.300000 + 3.300000 = 6.600000 \n",
      "6.400000 + 6.400000 = 12.800000 \n",
      "8.600000 + 8.600000 = 17.200001 \n",
      "11.400000 + 11.400000 = 22.799999 \n",
      "23.299999 + 23.299999 = 46.599998 \n",
      "2.700000 + 2.700000 = 5.400000 \n",
      "2.600000 + 2.600000 = 5.200000 \n",
      "24.100000 + 24.100000 = 48.200001 \n",
      "Arrays match. \n",
      "\n"
     ]
    }
   ],
   "source": [
    "%%bash\n",
    "nvcc sumArraysOnDevice.cu -o sumgpu\n",
    "./sumgpu"
   ]
  },
  {
   "cell_type": "code",
   "execution_count": 11,
   "metadata": {},
   "outputs": [
    {
     "name": "stdout",
     "output_type": "stream",
     "text": [
      "==12294== NVPROF is profiling process 12294, command: ./sumgpu\n",
      "11.300000 + 11.300000 = 22.600000 \n",
      "23.200001 + 23.200001 = 0.000000 \n",
      "23.500000 + 23.500000 = 0.000000 \n",
      "21.500000 + 21.500000 = 0.000000 \n",
      "16.700001 + 16.700001 = 0.000000 \n",
      "23.000000 + 23.000000 = 0.000000 \n",
      "5.900000 + 5.900000 = 0.000000 \n",
      "3.200000 + 3.200000 = 0.000000 \n",
      "13.900000 + 13.900000 = 0.000000 \n",
      "8.200000 + 8.200000 = 0.000000 \n",
      "Arrays do not match!\n",
      "host  0.00 gpu 46.40 at current 1\n",
      "==12294== Profiling application: ./sumgpu\n",
      "==12294== Profiling result:\n",
      "            Type  Time(%)      Time     Calls       Avg       Min       Max  Name\n",
      " GPU activities:   38.31%  3.7760us         1  3.7760us  3.7760us  3.7760us  sumArraysOnDevice(float*, float*, float*)\n",
      "                   37.34%  3.6800us         2  1.8400us  1.8240us  1.8560us  [CUDA memcpy HtoD]\n",
      "                   24.35%  2.4000us         1  2.4000us  2.4000us  2.4000us  [CUDA memcpy DtoH]\n",
      "      API calls:   70.29%  116.93ms         3  38.978ms  4.1810us  116.92ms  cudaMalloc\n",
      "                   29.12%  48.439ms         1  48.439ms  48.439ms  48.439ms  cudaDeviceReset\n",
      "                    0.34%  564.20us        94  6.0020us     164ns  248.93us  cuDeviceGetAttribute\n",
      "                    0.11%  187.10us         3  62.365us  9.9380us  159.64us  cudaFree\n",
      "                    0.05%  83.126us         1  83.126us  83.126us  83.126us  cuDeviceTotalMem\n",
      "                    0.03%  57.601us         1  57.601us  57.601us  57.601us  cuDeviceGetName\n",
      "                    0.03%  52.785us         3  17.595us  10.601us  24.990us  cudaMemcpy\n",
      "                    0.01%  24.804us         1  24.804us  24.804us  24.804us  cudaLaunch\n",
      "                    0.00%  3.5350us         3  1.1780us     225ns  2.7900us  cudaSetupArgument\n",
      "                    0.00%  1.5750us         2     787ns     240ns  1.3350us  cuDeviceGetCount\n",
      "                    0.00%     849ns         1     849ns     849ns     849ns  cudaConfigureCall\n",
      "                    0.00%     483ns         2     241ns     198ns     285ns  cuDeviceGet\n"
     ]
    }
   ],
   "source": [
    "!nvprof --unified-memory-profiling off ./sumgpu"
   ]
  },
  {
   "cell_type": "code",
   "execution_count": null,
   "metadata": {},
   "outputs": [],
   "source": []
  }
 ],
 "metadata": {
  "kernelspec": {
   "display_name": "Python 3",
   "language": "python",
   "name": "python3"
  },
  "language_info": {
   "codemirror_mode": {
    "name": "ipython",
    "version": 3
   },
   "file_extension": ".py",
   "mimetype": "text/x-python",
   "name": "python",
   "nbconvert_exporter": "python",
   "pygments_lexer": "ipython3",
   "version": "3.6.5"
  },
  "toc": {
   "base_numbering": 1,
   "nav_menu": {},
   "number_sections": true,
   "sideBar": true,
   "skip_h1_title": false,
   "title_cell": "Table of Contents",
   "title_sidebar": "Contents",
   "toc_cell": false,
   "toc_position": {},
   "toc_section_display": true,
   "toc_window_display": false
  }
 },
 "nbformat": 4,
 "nbformat_minor": 2
}
