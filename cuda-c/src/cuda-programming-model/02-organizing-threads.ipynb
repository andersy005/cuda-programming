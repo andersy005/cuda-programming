{
 "cells": [
  {
   "cell_type": "code",
   "execution_count": 5,
   "metadata": {},
   "outputs": [
    {
     "name": "stdout",
     "output_type": "stream",
     "text": [
      "Overwriting checkDimensions.cu\n"
     ]
    }
   ],
   "source": [
    "%%file checkDimensions.cu\n",
    "\n",
    "#include <cuda_runtime.h>\n",
    "#include <stdio.h>\n",
    "\n",
    "__global__\n",
    "void checkIndex(void){\n",
    "    printf(\"threadIdx:(%d, %d, %d) blockIdx:(%d, %d, %d) blockDim:(%d, %d, %d) \" \n",
    "           \"gridDim:(%d, %d, %d)\\n\", threadIdx.x, threadIdx.y, threadIdx.z, blockIdx.x, \n",
    "           blockIdx.y, blockIdx.z, blockDim.x, blockDim.y, blockDim.z,\n",
    "           gridDim.x,gridDim.y,gridDim.z);\n",
    "}\n",
    "\n",
    "\n",
    "int main(int argc, char **argv) { \n",
    "    // define total data element \n",
    "    int nElem = 6;\n",
    "    // define grid and block structure \n",
    "    dim3 block (3); \n",
    "    dim3 grid ((nElem+block.x-1)/block.x);\n",
    "    // check grid and block dimension from host side \n",
    "    printf(\"grid.x %d grid.y %d grid.z %d\\n\",grid.x, grid.y, grid.z); \n",
    "    printf(\"block.x %d block.y %d block.z %d\\n\",block.x, block.y, block.z);\n",
    "    // check grid and block dimension from device side \n",
    "    checkIndex <<<grid, block>>> ();\n",
    "    // reset device before you leave \n",
    "    cudaDeviceReset();\n",
    "    return(0);\n",
    "    \n",
    "}\n"
   ]
  },
  {
   "cell_type": "code",
   "execution_count": 6,
   "metadata": {},
   "outputs": [
    {
     "name": "stdout",
     "output_type": "stream",
     "text": [
      "grid.x 2 grid.y 1 grid.z 1\n",
      "block.x 3 block.y 1 block.z 1\n",
      "threadIdx:(0, 0, 0) blockIdx:(1, 0, 0) blockDim:(3, 1, 1) gridDim:(2, 1, 1)\n",
      "threadIdx:(1, 0, 0) blockIdx:(1, 0, 0) blockDim:(3, 1, 1) gridDim:(2, 1, 1)\n",
      "threadIdx:(2, 0, 0) blockIdx:(1, 0, 0) blockDim:(3, 1, 1) gridDim:(2, 1, 1)\n",
      "threadIdx:(0, 0, 0) blockIdx:(0, 0, 0) blockDim:(3, 1, 1) gridDim:(2, 1, 1)\n",
      "threadIdx:(1, 0, 0) blockIdx:(0, 0, 0) blockDim:(3, 1, 1) gridDim:(2, 1, 1)\n",
      "threadIdx:(2, 0, 0) blockIdx:(0, 0, 0) blockDim:(3, 1, 1) gridDim:(2, 1, 1)\n"
     ]
    }
   ],
   "source": [
    "%%bash\n",
    "nvcc checkDimensions.cu -o checkdims\n",
    "./checkdims"
   ]
  }
 ],
 "metadata": {
  "kernelspec": {
   "display_name": "Python 3",
   "language": "python",
   "name": "python3"
  },
  "language_info": {
   "codemirror_mode": {
    "name": "ipython",
    "version": 3
   },
   "file_extension": ".py",
   "mimetype": "text/x-python",
   "name": "python",
   "nbconvert_exporter": "python",
   "pygments_lexer": "ipython3",
   "version": "3.6.5"
  },
  "toc": {
   "base_numbering": 1,
   "nav_menu": {},
   "number_sections": true,
   "sideBar": true,
   "skip_h1_title": false,
   "title_cell": "Table of Contents",
   "title_sidebar": "Contents",
   "toc_cell": false,
   "toc_position": {},
   "toc_section_display": true,
   "toc_window_display": false
  }
 },
 "nbformat": 4,
 "nbformat_minor": 2
}
