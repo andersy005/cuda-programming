{
  "nbformat": 4,
  "nbformat_minor": 0,
  "metadata": {
    "colab": {
      "name": "getting-started-on-colab.ipynb",
      "version": "0.3.2",
      "provenance": [],
      "include_colab_link": true
    },
    "kernelspec": {
      "name": "python3",
      "display_name": "Python 3"
    },
    "accelerator": "GPU"
  },
  "cells": [
    {
      "cell_type": "markdown",
      "metadata": {
        "id": "view-in-github",
        "colab_type": "text"
      },
      "source": [
        "[View in Colaboratory](https://colab.research.google.com/github/andersy005/cuda-programming/blob/master/getting_started_on_colab.ipynb)"
      ]
    },
    {
      "metadata": {
        "id": "Azf91OtajTab",
        "colab_type": "code",
        "colab": {
          "base_uri": "https://localhost:8080/",
          "height": 34
        },
        "outputId": "dfe6f1dc-edac-466c-95ba-b62736d8d3e2"
      },
      "cell_type": "code",
      "source": [
        "!apt update -qq"
      ],
      "execution_count": 1,
      "outputs": [
        {
          "output_type": "stream",
          "text": [
            "6 packages can be upgraded. Run 'apt list --upgradable' to see them.\r\n"
          ],
          "name": "stdout"
        }
      ]
    },
    {
      "metadata": {
        "id": "PKBV7iXgjdfJ",
        "colab_type": "code",
        "colab": {
          "base_uri": "https://localhost:8080/",
          "height": 309
        },
        "outputId": "5e307c44-8abe-40f3-947f-48d7cf2f41b2"
      },
      "cell_type": "code",
      "source": [
        "!wget https://developer.nvidia.com/compute/cuda/8.0/Prod2/local_installers/cuda-repo-ubuntu1604-8-0-local-ga2_8.0.61-1_amd64-deb"
      ],
      "execution_count": 2,
      "outputs": [
        {
          "output_type": "stream",
          "text": [
            "--2018-06-27 18:46:54--  https://developer.nvidia.com/compute/cuda/8.0/Prod2/local_installers/cuda-repo-ubuntu1604-8-0-local-ga2_8.0.61-1_amd64-deb\r\n",
            "Resolving developer.nvidia.com (developer.nvidia.com)... 192.229.162.216\r\n",
            "Connecting to developer.nvidia.com (developer.nvidia.com)|192.229.162.216|:443... connected.\n",
            "HTTP request sent, awaiting response... 302 Found\n",
            "Location: https://developer.download.nvidia.com/compute/cuda/8.0/secure/Prod2/local_installers/cuda-repo-ubuntu1604-8-0-local-ga2_8.0.61-1_amd64.deb?Oy-tuxd8APgk75C-6ni3GsZYC8MKSx8lCk8BAhMEzptmEKWqiBU80Z9TWX4lJfCr-9n4M6xR8eAQcu5bANJUkw92M88T3sQSG2Q5CzCeAhG3ye37lu2a4s6ej_RdyKJ5nHPAmPPd3wAoF-hVGKyZghC3EKpAvO4xKIEOrqItL1bQbfbUalWFWE6JB5e5i2kZ38Qeu_Hz2HpSo1htmYiBXUHogg [following]\n",
            "--2018-06-27 18:46:54--  https://developer.download.nvidia.com/compute/cuda/8.0/secure/Prod2/local_installers/cuda-repo-ubuntu1604-8-0-local-ga2_8.0.61-1_amd64.deb?Oy-tuxd8APgk75C-6ni3GsZYC8MKSx8lCk8BAhMEzptmEKWqiBU80Z9TWX4lJfCr-9n4M6xR8eAQcu5bANJUkw92M88T3sQSG2Q5CzCeAhG3ye37lu2a4s6ej_RdyKJ5nHPAmPPd3wAoF-hVGKyZghC3EKpAvO4xKIEOrqItL1bQbfbUalWFWE6JB5e5i2kZ38Qeu_Hz2HpSo1htmYiBXUHogg\n",
            "Resolving developer.download.nvidia.com (developer.download.nvidia.com)... 192.229.211.70, 2606:2800:21f:3aa:dcf:37b:1ed6:1fb\n",
            "Connecting to developer.download.nvidia.com (developer.download.nvidia.com)|192.229.211.70|:443... connected.\n",
            "HTTP request sent, awaiting response... 200 OK\n",
            "Length: 1913589814 (1.8G) [application/x-deb]\n",
            "Saving to: ‘cuda-repo-ubuntu1604-8-0-local-ga2_8.0.61-1_amd64-deb.4’\n",
            "\n"
          ],
          "name": "stdout"
        },
        {
          "output_type": "stream",
          "text": [
            "deb.4                99%[==================> ]   1.77G   157MB/s    eta 0s     \rcuda-repo-ubuntu160 100%[===================>]   1.78G   155MB/s    in 13s     \r\n",
            "\r\n",
            "2018-06-27 18:47:07 (139 MB/s) - ‘cuda-repo-ubuntu1604-8-0-local-ga2_8.0.61-1_amd64-deb.4’ saved [1913589814/1913589814]\r\n",
            "\r\n"
          ],
          "name": "stdout"
        }
      ]
    },
    {
      "metadata": {
        "id": "vrfKbLekdPDO",
        "colab_type": "code",
        "colab": {}
      },
      "cell_type": "code",
      "source": [
        "!dpkg -i cuda-repo-ubuntu1604–8–0-local-ga2_8.0.61–1_amd64-deb 2> /dev/null"
      ],
      "execution_count": 0,
      "outputs": []
    },
    {
      "metadata": {
        "id": "A9Lo4FoydC7q",
        "colab_type": "code",
        "colab": {
          "base_uri": "https://localhost:8080/",
          "height": 34
        },
        "outputId": "a12cf818-1adf-40a5-8a4c-1f1e2dfd5423"
      },
      "cell_type": "code",
      "source": [
        "!apt-key add /var/cuda-repo-8-0-local-ga2/7fa2af80.pub"
      ],
      "execution_count": 4,
      "outputs": [
        {
          "output_type": "stream",
          "text": [
            "OK\r\n"
          ],
          "name": "stdout"
        }
      ]
    },
    {
      "metadata": {
        "id": "vuIFPr-leAFV",
        "colab_type": "code",
        "colab": {}
      },
      "cell_type": "code",
      "source": [
        "!apt-get update -qq"
      ],
      "execution_count": 0,
      "outputs": []
    },
    {
      "metadata": {
        "id": "5LCW1tnxj-pk",
        "colab_type": "code",
        "colab": {
          "base_uri": "https://localhost:8080/",
          "height": 85
        },
        "outputId": "76f7e7ae-1e54-41b1-c877-6b528a691ade"
      },
      "cell_type": "code",
      "source": [
        "!apt --fix-broken install\n",
        "!apt-get install cuda gcc-5 g++-5 -y -qq;"
      ],
      "execution_count": 6,
      "outputs": [
        {
          "output_type": "stream",
          "text": [
            "Reading package lists... Done\n",
            "Building dependency tree       \n",
            "Reading state information... Done\n",
            "0 upgraded, 0 newly installed, 0 to remove and 6 not upgraded.\n"
          ],
          "name": "stdout"
        }
      ]
    },
    {
      "metadata": {
        "id": "zoqglXEBj-02",
        "colab_type": "code",
        "colab": {
          "base_uri": "https://localhost:8080/",
          "height": 170
        },
        "outputId": "3078ead4-f9d8-446c-dc8f-c4774369992a"
      },
      "cell_type": "code",
      "source": [
        "!ln -s /usr/bin/gcc-5 /usr/local/cuda/bin/gcc;\n",
        "!ln -s /usr/bin/g++-5 /usr/local/cuda/bin/g++;\n",
        "!apt install cuda-8.0;"
      ],
      "execution_count": 7,
      "outputs": [
        {
          "output_type": "stream",
          "text": [
            "Reading package lists... Done\n",
            "Building dependency tree       \n",
            "Reading state information... Done\n",
            "Note, selecting 'cuda-8-0' for regex 'cuda-8.0'\n",
            "Note, selecting 'libcuda-8.0-1' for regex 'cuda-8.0'\n",
            "Note, selecting 'libcuda1-384' instead of 'libcuda-8.0-1'\n",
            "libcuda1-384 is already the newest version (384.130-0ubuntu0.17.10.1).\n",
            "cuda-8-0 is already the newest version (8.0.61-1).\n",
            "0 upgraded, 0 newly installed, 0 to remove and 6 not upgraded.\n"
          ],
          "name": "stdout"
        }
      ]
    },
    {
      "metadata": {
        "id": "IzaD9e62epuL",
        "colab_type": "code",
        "colab": {}
      },
      "cell_type": "code",
      "source": [
        "import os\n",
        "os.environ['PATH'] += ':/usr/local/cuda/bin'"
      ],
      "execution_count": 0,
      "outputs": []
    },
    {
      "metadata": {
        "id": "ayx2gqk8iICV",
        "colab_type": "code",
        "colab": {
          "base_uri": "https://localhost:8080/",
          "height": 119
        },
        "outputId": "da46bca7-2c02-4b64-9363-31e7efe437df"
      },
      "cell_type": "code",
      "source": [
        "!apt install gcc-5 g++-5 -y"
      ],
      "execution_count": 9,
      "outputs": [
        {
          "output_type": "stream",
          "text": [
            "Reading package lists... Done\n",
            "Building dependency tree       \n",
            "Reading state information... Done\n",
            "gcc-5 is already the newest version (5.5.0-1ubuntu2).\n",
            "g++-5 is already the newest version (5.5.0-1ubuntu2).\n",
            "0 upgraded, 0 newly installed, 0 to remove and 6 not upgraded.\n"
          ],
          "name": "stdout"
        }
      ]
    },
    {
      "metadata": {
        "id": "MFe_6wdBiLcy",
        "colab_type": "code",
        "colab": {}
      },
      "cell_type": "code",
      "source": [
        "import os\n",
        "os.environ['PATH'] += ':/usr/local/cuda/bin'"
      ],
      "execution_count": 0,
      "outputs": []
    },
    {
      "metadata": {
        "id": "1UT9EIGZiN12",
        "colab_type": "code",
        "colab": {
          "base_uri": "https://localhost:8080/",
          "height": 85
        },
        "outputId": "8935d529-d8bf-4063-f95f-18e86ef49e22"
      },
      "cell_type": "code",
      "source": [
        "!nvcc --version"
      ],
      "execution_count": 11,
      "outputs": [
        {
          "output_type": "stream",
          "text": [
            "nvcc: NVIDIA (R) Cuda compiler driver\r\n",
            "Copyright (c) 2005-2016 NVIDIA Corporation\r\n",
            "Built on Tue_Jan_10_13:22:03_CST_2017\r\n",
            "Cuda compilation tools, release 8.0, V8.0.61\r\n"
          ],
          "name": "stdout"
        }
      ]
    },
    {
      "metadata": {
        "id": "zjr4TsIFk21Z",
        "colab_type": "code",
        "colab": {
          "base_uri": "https://localhost:8080/",
          "height": 34
        },
        "outputId": "a4d6d568-c783-408b-ea2d-fdda4b2139b1"
      },
      "cell_type": "code",
      "source": [
        "%%file version.cu\n",
        "#include <thrust/version.h>\n",
        "#include <iostream>\n",
        "\n",
        "int main(void)\n",
        "{\n",
        "  int major = THRUST_MAJOR_VERSION;\n",
        "  int minor = THRUST_MINOR_VERSION;\n",
        "\n",
        "  std::cout << \"Thrust v\" << major << \".\" << minor << std::endl;\n",
        "\n",
        "  return 0;\n",
        "}"
      ],
      "execution_count": 12,
      "outputs": [
        {
          "output_type": "stream",
          "text": [
            "Writing version.cu\n"
          ],
          "name": "stdout"
        }
      ]
    },
    {
      "metadata": {
        "id": "7lVHw-Ezlf_L",
        "colab_type": "code",
        "colab": {
          "base_uri": "https://localhost:8080/",
          "height": 51
        },
        "outputId": "ae831aac-1584-4e94-ff77-ed686be5346e"
      },
      "cell_type": "code",
      "source": [
        "!nvcc version.cu -o version\n",
        "!./version"
      ],
      "execution_count": 13,
      "outputs": [
        {
          "output_type": "stream",
          "text": [
            "nvcc warning : The 'compute_20', 'sm_20', and 'sm_21' architectures are deprecated, and may be removed in a future release (Use -Wno-deprecated-gpu-targets to suppress warning).\n",
            "Thrust v1.8\n"
          ],
          "name": "stdout"
        }
      ]
    },
    {
      "metadata": {
        "id": "DXERV5wRlqX3",
        "colab_type": "code",
        "colab": {
          "base_uri": "https://localhost:8080/",
          "height": 34
        },
        "outputId": "619b324c-c970-467c-9dc1-087a1490670b"
      },
      "cell_type": "code",
      "source": [
        "%%file thrust_example.cu\n",
        "#include <thrust/host_vector.h>\n",
        "#include <thrust/device_vector.h>\n",
        "#include <thrust/generate.h>\n",
        "#include <thrust/sort.h>\n",
        "#include <thrust/copy.h>\n",
        "#include <algorithm>\n",
        "#include <cstdlib>\n",
        "\n",
        "int main(void)\n",
        "{\n",
        "  // generate 32M random numbers serially\n",
        "  thrust::host_vector<int> h_vec(32 << 20);\n",
        "  std::generate(h_vec.begin(), h_vec.end(), rand);\n",
        "\n",
        "  // transfer data to the device\n",
        "  thrust::device_vector<int> d_vec = h_vec;\n",
        "\n",
        "  // sort data on the device \n",
        "  thrust::sort(d_vec.begin(), d_vec.end());\n",
        "\n",
        "  // transfer data back to host\n",
        "  thrust::copy(d_vec.begin(), d_vec.end(), h_vec.begin());\n",
        "\n",
        "  return 0;\n",
        "}"
      ],
      "execution_count": 14,
      "outputs": [
        {
          "output_type": "stream",
          "text": [
            "Writing thrust_example.cu\n"
          ],
          "name": "stdout"
        }
      ]
    },
    {
      "metadata": {
        "id": "PSqPaE0amBwB",
        "colab_type": "code",
        "colab": {
          "base_uri": "https://localhost:8080/",
          "height": 34
        },
        "outputId": "4be9eef0-eee1-4c04-b916-1b4559c0894b"
      },
      "cell_type": "code",
      "source": [
        "!nvcc thrust_example.cu -o thrust_example\n",
        "!./thrust_example\n"
      ],
      "execution_count": 15,
      "outputs": [
        {
          "output_type": "stream",
          "text": [
            "nvcc warning : The 'compute_20', 'sm_20', and 'sm_21' architectures are deprecated, and may be removed in a future release (Use -Wno-deprecated-gpu-targets to suppress warning).\r\n"
          ],
          "name": "stdout"
        }
      ]
    },
    {
      "metadata": {
        "id": "v6gCqNHwmJp1",
        "colab_type": "code",
        "colab": {
          "base_uri": "https://localhost:8080/",
          "height": 581
        },
        "outputId": "65f32a73-9ad6-4b27-cb72-c1aa5a3fec9f"
      },
      "cell_type": "code",
      "source": [
        "!nvprof ./thrust_example"
      ],
      "execution_count": 16,
      "outputs": [
        {
          "output_type": "stream",
          "text": [
            "==1986== NVPROF is profiling process 1986, command: ./thrust_example\n",
            "==1986== Profiling application: ./thrust_example\n",
            "==1986== Profiling result:\n",
            "Time(%)      Time     Calls       Avg       Min       Max  Name\n",
            " 30.98%  26.865ms         1  26.865ms  26.865ms  26.865ms  [CUDA memcpy HtoD]\n",
            " 22.54%  19.542ms         4  4.8854ms  3.8770ms  5.2403ms  void thrust::system::cuda::detail::cub_::DeviceRadixSortDownsweepKernel<thrust::system::cuda::detail::cub_::DeviceRadixSortDispatch<bool=0, int, thrust::system::cuda::detail::cub_::NullType, int>::PtxDownsweepPolicy, bool=0, int, thrust::system::cuda::detail::cub_::NullType, int>(thrust::system::cuda::detail::cub_::NullType*, thrust::system::cuda::detail::cub_::NullType, int*, int, thrust::system::cuda::detail::cub_::DeviceRadixSortDispatch<bool=0, int, thrust::system::cuda::detail::cub_::NullType, int>::PtxDownsweepPolicy*, int*, int, int, bool, bool, thrust::system::cuda::detail::cub_::GridEvenShare<int*>)\n",
            " 21.37%  18.534ms         1  18.534ms  18.534ms  18.534ms  [CUDA memcpy DtoH]\n",
            " 13.21%  11.459ms         3  3.8197ms  3.7991ms  3.8498ms  void thrust::system::cuda::detail::cub_::DeviceRadixSortDownsweepKernel<thrust::system::cuda::detail::cub_::DeviceRadixSortDispatch<bool=0, int, thrust::system::cuda::detail::cub_::NullType, int>::PtxAltDownsweepPolicy, bool=0, int, thrust::system::cuda::detail::cub_::NullType, int>(thrust::system::cuda::detail::cub_::NullType*, thrust::system::cuda::detail::cub_::NullType, int*, int, thrust::system::cuda::detail::cub_::DeviceRadixSortDispatch<bool=0, int, thrust::system::cuda::detail::cub_::NullType, int>::PtxAltDownsweepPolicy*, int*, int, int, bool, bool, thrust::system::cuda::detail::cub_::GridEvenShare<int*>)\n",
            "  5.08%  4.4069ms         4  1.1017ms  1.0984ms  1.1063ms  void thrust::system::cuda::detail::cub_::DeviceRadixSortUpsweepKernel<thrust::system::cuda::detail::cub_::DeviceRadixSortDispatch<bool=0, int, thrust::system::cuda::detail::cub_::NullType, int>::PtxUpsweepPolicy, bool=0, int, int>(thrust::system::cuda::detail::cub_::NullType*, int*, thrust::system::cuda::detail::cub_::NullType*, int, int, bool, thrust::system::cuda::detail::cub_::GridEvenShare<thrust::system::cuda::detail::cub_::NullType*>)\n",
            "  4.12%  3.5706ms         3  1.1902ms  1.1881ms  1.1933ms  void thrust::system::cuda::detail::cub_::DeviceRadixSortUpsweepKernel<thrust::system::cuda::detail::cub_::DeviceRadixSortDispatch<bool=0, int, thrust::system::cuda::detail::cub_::NullType, int>::PtxAltUpsweepPolicy, bool=0, int, int>(thrust::system::cuda::detail::cub_::NullType*, int*, thrust::system::cuda::detail::cub_::NullType*, int, int, bool, thrust::system::cuda::detail::cub_::GridEvenShare<thrust::system::cuda::detail::cub_::NullType*>)\n",
            "  2.35%  2.0400ms         1  2.0400ms  2.0400ms  2.0400ms  [CUDA memcpy DtoD]\n",
            "  0.34%  298.43us         7  42.632us  32.160us  50.464us  void thrust::system::cuda::detail::cub_::RadixSortScanBinsKernel<thrust::system::cuda::detail::cub_::DeviceRadixSortDispatch<bool=0, int, thrust::system::cuda::detail::cub_::NullType, int>::PtxScanPolicy, int>(int*, int)\n",
            "\n",
            "==1986== API calls:\n",
            "Time(%)      Time     Calls       Avg       Min       Max  Name\n",
            " 68.70%  197.26ms         2  98.628ms  481.23us  196.77ms  cudaMalloc\n",
            " 15.94%  45.770ms         3  15.257ms  34.923us  26.979ms  cudaMemcpyAsync\n",
            " 14.52%  41.688ms         2  20.844ms  515.99us  41.172ms  cudaFree\n",
            "  0.28%  794.29us        91  8.7280us  2.6300us  267.81us  cuDeviceGetAttribute\n",
            "  0.18%  512.13us        21  24.387us  18.936us  61.082us  cudaLaunch\n",
            "  0.17%  485.34us        10  48.534us  44.333us  68.555us  cudaFuncGetAttributes\n",
            "  0.11%  316.36us         1  316.36us  316.36us  316.36us  cuDeviceTotalMem\n",
            "  0.05%  135.60us         2  67.798us  24.341us  111.26us  cudaStreamSynchronize\n",
            "  0.01%  37.730us         1  37.730us  37.730us  37.730us  cuDeviceGetName\n",
            "  0.01%  33.288us         6  5.5480us  5.3300us  6.3190us  cudaDeviceGetAttribute\n",
            "  0.01%  31.534us       140     225ns     178ns  1.0860us  cudaSetupArgument\n",
            "  0.01%  17.206us         2  8.6030us  8.4720us  8.7340us  cudaDeviceGetSharedMemConfig\n",
            "  0.00%  12.342us         2  6.1710us  5.9050us  6.4370us  cudaGetDevice\n",
            "  0.00%  11.925us         3  3.9750us  2.7300us  5.2650us  cuDeviceGetCount\n",
            "  0.00%  10.324us         3  3.4410us  2.9730us  4.2770us  cuDeviceGet\n",
            "  0.00%  8.4490us        21     402ns     321ns     926ns  cudaPeekAtLastError\n",
            "  0.00%  6.8050us        21     324ns     203ns  2.0050us  cudaConfigureCall\n"
          ],
          "name": "stdout"
        }
      ]
    },
    {
      "metadata": {
        "id": "nKymLb9hnFIZ",
        "colab_type": "code",
        "colab": {}
      },
      "cell_type": "code",
      "source": [
        ""
      ],
      "execution_count": 0,
      "outputs": []
    }
  ]
}