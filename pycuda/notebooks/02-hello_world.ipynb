{
 "cells": [
  {
   "cell_type": "code",
   "execution_count": 1,
   "metadata": {},
   "outputs": [
    {
     "name": "stdout",
     "output_type": "stream",
     "text": [
      "Overwriting ../02-hello_world.py\n"
     ]
    }
   ],
   "source": [
    "%%writefile ../02-hello_world.py\n",
    "\n",
    "\n",
    "import pycuda.driver as cuda\n",
    "import pycuda.autoinit\n",
    "from pycuda.compiler import SourceModule\n",
    "\n",
    "mod = SourceModule(\"\"\"\n",
    "    #include <stdio.h>\n",
    "    __global__ void say_hi(){\n",
    "    printf(\"I am %d.%d\\\\n\", threadIdx.x, threadIdx.y);\n",
    "    }\"\"\")\n",
    "\n",
    "func = mod.get_function(\"say_hi\")\n",
    "func(block=(4, 2, 1))"
   ]
  },
  {
   "cell_type": "code",
   "execution_count": 2,
   "metadata": {},
   "outputs": [
    {
     "name": "stdout",
     "output_type": "stream",
     "text": [
      "I am 0.0\r\n",
      "I am 1.0\r\n",
      "I am 2.0\r\n",
      "I am 3.0\r\n",
      "I am 0.1\r\n",
      "I am 1.1\r\n",
      "I am 2.1\r\n",
      "I am 3.1\r\n"
     ]
    }
   ],
   "source": [
    "!python ../02-hello_world.py"
   ]
  },
  {
   "cell_type": "code",
   "execution_count": null,
   "metadata": {},
   "outputs": [],
   "source": []
  }
 ],
 "metadata": {
  "kernelspec": {
   "display_name": "Python 3",
   "language": "python",
   "name": "python3"
  },
  "language_info": {
   "codemirror_mode": {
    "name": "ipython",
    "version": 3
   },
   "file_extension": ".py",
   "mimetype": "text/x-python",
   "name": "python",
   "nbconvert_exporter": "python",
   "pygments_lexer": "ipython3",
   "version": "3.6.5"
  }
 },
 "nbformat": 4,
 "nbformat_minor": 2
}
