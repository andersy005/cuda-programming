{
 "cells": [
  {
   "cell_type": "markdown",
   "metadata": {},
   "source": [
    "## Import and initialize PyCUDA"
   ]
  },
  {
   "cell_type": "code",
   "execution_count": 1,
   "metadata": {},
   "outputs": [
    {
     "name": "stdout",
     "output_type": "stream",
     "text": [
      "Overwriting ../hello_world.py\n"
     ]
    }
   ],
   "source": [
    "%%writefile ../hello_world.py\n",
    "\n",
    "import pycuda.driver as cuda\n",
    "import pycuda.autoinit\n",
    "from pycuda.compiler import SourceModule\n",
    "\n",
    "mod = SourceModule(\"\"\"\n",
    "    #include <stdio.h>\n",
    "\n",
    "    __global__ void kernel()\n",
    "    {\n",
    "        printf(\"Hello, World!\\\\n\");\n",
    "    }\"\"\")\n",
    "\n",
    "func = mod.get_function(\"kernel\")\n",
    "\n",
    "\n",
    "func(block=(4, 1, 1))\n"
   ]
  },
  {
   "cell_type": "markdown",
   "metadata": {},
   "source": [
    "Here,\n",
    "`pycuda.autoinit`\n",
    "serves for automatic initialization, context creation, and cleanup. The\n",
    "`SourceModule`\n",
    "is where a (usually short) C-like code for the GPU is to be written."
   ]
  },
  {
   "cell_type": "code",
   "execution_count": 2,
   "metadata": {},
   "outputs": [
    {
     "name": "stdout",
     "output_type": "stream",
     "text": [
      "Hello, World!\r\n",
      "Hello, World!\r\n",
      "Hello, World!\r\n",
      "Hello, World!\r\n"
     ]
    }
   ],
   "source": [
    "!python ../hello_world.py"
   ]
  }
 ],
 "metadata": {
  "kernelspec": {
   "display_name": "Python 3",
   "language": "python",
   "name": "python3"
  },
  "language_info": {
   "codemirror_mode": {
    "name": "ipython",
    "version": 3
   },
   "file_extension": ".py",
   "mimetype": "text/x-python",
   "name": "python",
   "nbconvert_exporter": "python",
   "pygments_lexer": "ipython3",
   "version": "3.6.5"
  }
 },
 "nbformat": 4,
 "nbformat_minor": 2
}
